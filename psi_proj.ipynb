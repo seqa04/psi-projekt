{
 "cells": [
  {
   "cell_type": "code",
   "execution_count": 7,
   "id": "b53486c9",
   "metadata": {},
   "outputs": [],
   "source": [
    "import torch\n",
    "import torchvision\n",
    "from torch.utils.data import DataLoader\n",
    "from torchvision.models.detection import FasterRCNN\n",
    "from torchvision.models.detection.faster_rcnn import FastRCNNPredictor\n",
    "from torchvision.datasets import CocoDetection\n",
    "from torchvision.transforms import functional as F\n",
    "import matplotlib.pyplot as plt\n",
    "from PIL import Image\n",
    "from tqdm import tqdm"
   ]
  },
  {
   "cell_type": "code",
   "execution_count": null,
   "id": "e966c340",
   "metadata": {},
   "outputs": [],
   "source": [
    "import gdown\n",
    "import zipfile\n",
    "import os\n",
    "\n",
    "# === 1. LINK DO PLIKU Z GOOGLE DRIVE ===\n",
    "# Udostępnij plik publicznie i użyj ID z linku: https://drive.google.com/file/d/FILE_ID/view\n",
    "file_id = '1n9aHRA-k3ElGwbmysJMjo8DoaMFNvxMg'  # <-- zamień na swoje ID\n",
    "output_zip = 'dataset.zip'\n",
    "\n",
    "# === 2. Pobierz plik ZIP ===\n",
    "gdown.download(f'https://drive.google.com/uc?id={file_id}', output_zip, quiet=False)\n",
    "\n",
    "# === 3. Rozpakuj (jeśli ZIP) ===\n",
    "with zipfile.ZipFile(output_zip, 'r') as zip_ref:\n",
    "    zip_ref.extractall('dataset')\n",
    "\n",
    "print(\"✅ Dane pobrane i rozpakowane do folderu 'dataset/'\")"
   ]
  },
  {
   "cell_type": "code",
   "execution_count": 2,
   "id": "4c287041",
   "metadata": {},
   "outputs": [],
   "source": [
    "class CocoTransform:\n",
    "    def __call__(self, image, target):\n",
    "        image = F.to_tensor(image)\n",
    "        return image, target"
   ]
  },
  {
   "cell_type": "code",
   "execution_count": 3,
   "id": "295f2420",
   "metadata": {},
   "outputs": [
    {
     "name": "stdout",
     "output_type": "stream",
     "text": [
      "loading annotations into memory...\n",
      "Done (t=0.03s)\n",
      "creating index...\n",
      "index created!\n",
      "loading annotations into memory...\n",
      "Done (t=0.01s)\n",
      "creating index...\n",
      "index created!\n"
     ]
    }
   ],
   "source": [
    "def get_coco_dataset(img_dir, ann_file):\n",
    "    return CocoDetection(\n",
    "        root=img_dir,\n",
    "        annFile=ann_file,\n",
    "        transforms=CocoTransform()\n",
    "    )\n",
    "\n",
    "train_dataset = get_coco_dataset(\n",
    "    img_dir=\"dataset/train\",\n",
    "    ann_file=\"dataset/train/_annotations.coco.json\"\n",
    ")\n",
    "\n",
    "val_dataset = get_coco_dataset(\n",
    "    img_dir=\"dataset/valid\",\n",
    "    ann_file=\"dataset/valid/_annotations.coco.json\"\n",
    ")\n",
    "\n",
    "train_loader = DataLoader(train_dataset, batch_size=4, shuffle=True, collate_fn=lambda x: tuple(zip(*x)))\n",
    "val_loader = DataLoader(val_dataset, batch_size=4, shuffle=False, collate_fn=lambda x: tuple(zip(*x)))"
   ]
  },
  {
   "cell_type": "code",
   "execution_count": 4,
   "id": "f65019eb",
   "metadata": {},
   "outputs": [],
   "source": [
    "def get_model(num_classes):\n",
    "    model = torchvision.models.detection.fasterrcnn_resnet50_fpn(pretrained=True)\n",
    "    in_features = model.roi_heads.box_predictor.cls_score.in_features\n",
    "    model.roi_heads.box_predictor = FastRCNNPredictor(in_features, num_classes)\n",
    "    return model"
   ]
  },
  {
   "cell_type": "code",
   "execution_count": 5,
   "id": "17ef0336",
   "metadata": {},
   "outputs": [
    {
     "name": "stderr",
     "output_type": "stream",
     "text": [
      "C:\\Users\\Sebastian\\AppData\\Local\\Packages\\PythonSoftwareFoundation.Python.3.12_qbz5n2kfra8p0\\LocalCache\\local-packages\\Python312\\site-packages\\torchvision\\models\\_utils.py:208: UserWarning: The parameter 'pretrained' is deprecated since 0.13 and may be removed in the future, please use 'weights' instead.\n",
      "  warnings.warn(\n",
      "C:\\Users\\Sebastian\\AppData\\Local\\Packages\\PythonSoftwareFoundation.Python.3.12_qbz5n2kfra8p0\\LocalCache\\local-packages\\Python312\\site-packages\\torchvision\\models\\_utils.py:223: UserWarning: Arguments other than a weight enum or `None` for 'weights' are deprecated since 0.13 and may be removed in the future. The current behavior is equivalent to passing `weights=FasterRCNN_ResNet50_FPN_Weights.COCO_V1`. You can also use `weights=FasterRCNN_ResNet50_FPN_Weights.DEFAULT` to get the most up-to-date weights.\n",
      "  warnings.warn(msg)\n"
     ]
    },
    {
     "name": "stdout",
     "output_type": "stream",
     "text": [
      "Downloading: \"https://download.pytorch.org/models/fasterrcnn_resnet50_fpn_coco-258fb6c6.pth\" to C:\\Users\\Sebastian/.cache\\torch\\hub\\checkpoints\\fasterrcnn_resnet50_fpn_coco-258fb6c6.pth\n"
     ]
    },
    {
     "name": "stderr",
     "output_type": "stream",
     "text": [
      "100%|██████████| 160M/160M [00:04<00:00, 37.0MB/s] \n"
     ]
    }
   ],
   "source": [
    "num_classes = 6\n",
    "model = get_model(num_classes)"
   ]
  },
  {
   "cell_type": "code",
   "execution_count": 6,
   "id": "f528f00e",
   "metadata": {},
   "outputs": [],
   "source": [
    "device = torch.device('cuda') if torch.cuda.is_available() else torch.device('cpu')\n",
    "model.to(device)\n",
    "\n",
    "params = [p for p in model.parameters() if p.requires_grad]\n",
    "optimizer = torch.optim.SGD(params, lr=0.005, momentum=0.9, weight_decay=0.0005)\n",
    "lr_scheduler = torch.optim.lr_scheduler.StepLR(optimizer, step_size=3, gamma=0.1)"
   ]
  },
  {
   "cell_type": "code",
   "execution_count": 11,
   "id": "6b7b4e7f",
   "metadata": {},
   "outputs": [],
   "source": [
    "def train_epoch(model, optimizer, data_loader, device, epoch):\n",
    "    model.train()\n",
    "    for images, targets in tqdm(data_loader, desc=f\"Trenowanie epoki: {epoch}\"):\n",
    "        images = [img.to(device) for img in images]\n",
    "\n",
    "        processed_targets = []\n",
    "        valid_images = []\n",
    "        for i, target in enumerate(targets):\n",
    "            boxes = []\n",
    "            labels= []\n",
    "            for obj in target:\n",
    "                bbox = obj[\"bbox\"]\n",
    "                x, y, w, h = bbox\n",
    "\n",
    "                if w>0 and h>0:\n",
    "                    boxes.append([x, y, x+w, y+h])\n",
    "                    labels.append(obj[\"category_id\"])\n",
    "                \n",
    "            if boxes:\n",
    "                processed_target = {\n",
    "                    \"boxes\": torch.tensor(boxes, dtype=torch.float32).to(device),\n",
    "                    \"labels\": torch.tensor(labels, dtype=torch.int64).to(device),\n",
    "                }\n",
    "                processed_targets.append(processed_target)\n",
    "                valid_images.append(images[i])\n",
    "\n",
    "        if not processed_targets:\n",
    "            continue\n",
    "\n",
    "        images = valid_images\n",
    "\n",
    "        loss_dict = model(images, processed_targets)\n",
    "        losses = sum(loss for loss in loss_dict.values())\n",
    "\n",
    "        optimizer.zero_grad()\n",
    "        losses.backward()\n",
    "        optimizer.step()\n",
    "\n",
    "    print(f\"Epoch [{epoch}] Loss: {losses.item():.4f}\")"
   ]
  },
  {
   "cell_type": "code",
   "execution_count": 12,
   "id": "d2fe7c2d",
   "metadata": {},
   "outputs": [],
   "source": [
    "def training_loop(n_of_epochs):\n",
    "    for epoch in range(n_of_epochs):\n",
    "        train_epoch(model, optimizer, train_loader, device, epoch)\n",
    "        lr_scheduler.step()\n",
    "    \n",
    "        # Save the model's state dictionary after every epoch\n",
    "        model_path = f\"fasterrcnn_resnet50_epoch_{epoch + 1}.pth\"\n",
    "        torch.save(model.state_dict(), model_path)\n",
    "        print(f\"Model saved: {model_path}\")\n"
   ]
  },
  {
   "cell_type": "code",
   "execution_count": null,
   "id": "57f8e677",
   "metadata": {},
   "outputs": [],
   "source": []
  }
 ],
 "metadata": {
  "kernelspec": {
   "display_name": "Python 3",
   "language": "python",
   "name": "python3"
  },
  "language_info": {
   "codemirror_mode": {
    "name": "ipython",
    "version": 3
   },
   "file_extension": ".py",
   "mimetype": "text/x-python",
   "name": "python",
   "nbconvert_exporter": "python",
   "pygments_lexer": "ipython3",
   "version": "3.12.10"
  }
 },
 "nbformat": 4,
 "nbformat_minor": 5
}
